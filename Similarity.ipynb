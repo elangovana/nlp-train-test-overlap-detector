{
 "cells": [
  {
   "cell_type": "markdown",
   "metadata": {},
   "source": [
    "# Similarity comparison "
   ]
  },
  {
   "cell_type": "code",
   "execution_count": 1,
   "metadata": {},
   "outputs": [],
   "source": [
    "import os,sys, tempfile, pandas as pd\n",
    "sys.path.append(\"src\")"
   ]
  },
  {
   "cell_type": "code",
   "execution_count": 2,
   "metadata": {},
   "outputs": [],
   "source": [
    "working_dir =  \"tempv2\"\n",
    "os.makedirs(working_dir, exist_ok=True)"
   ]
  },
  {
   "cell_type": "code",
   "execution_count": 3,
   "metadata": {},
   "outputs": [],
   "source": [
    "def scores_to_df(scores, details, data_set, data_type, task_type):\n",
    "    df = pd.DataFrame()\n",
    "    for k , v in scores.items():\n",
    "        df[k] = v\n",
    "        \n",
    "    for k , v in details.items():\n",
    "        df[k + \"_detail\"] = v\n",
    "    \n",
    "    df[\"data_set\"] = data_set + \" \" + data_type\n",
    "    df[\"task_type\"] = task_type\n",
    "         \n",
    "    return df"
   ]
  },
  {
   "cell_type": "markdown",
   "metadata": {},
   "source": [
    "### 1. BC2GM\n",
    "\n",
    "[Biocreative II gene mention](https://biocreative.bioinformatics.udel.edu/tasks/biocreative-ii/) overlap. Please download the test and train files for this task from the BioCreative Website.\n"
   ]
  },
  {
   "cell_type": "code",
   "execution_count": 4,
   "metadata": {},
   "outputs": [],
   "source": [
    "bc2gm_train_file = os.path.join(\"tmp\", \"train.in\")\n",
    "bc2gm_test_file = os.path.join(\"tmp\", \"test.in\")\n",
    "\n",
    "bc2gm_train_eval_file = os.path.join(\"tmp\", \"trainGENE.eval\")\n",
    "bc2gm_test_eval_file = os.path.join(\"tmp\", \"testGENE.eval\")"
   ]
  },
  {
   "cell_type": "code",
   "execution_count": 5,
   "metadata": {},
   "outputs": [
    {
     "name": "stdout",
     "output_type": "stream",
     "text": [
      "Exact matches Unigram, 39 / 5000\n",
      "Exact matches Bigram, 26 / 5000\n",
      "Exact matches Trigram, 26 / 5000\n",
      "Exact matches Unigram, 1996 / 6331\n",
      "Exact matches Bigram, 541 / 6331\n",
      "Exact matches Trigram, 134 / 6331\n"
     ]
    }
   ],
   "source": [
    "from bc2_gene_mention import BC2GeneMentionText \n",
    "\n",
    "\n",
    "bc2gmrun = BC2GeneMentionText()\n",
    "result_score, result_detail = bc2gmrun.run_similarity_comparer(\"text\", bc2gm_train_file,  bc2gm_test_file)\n",
    "df_bc2_gm_text = scores_to_df(result_score,result_detail, \"BC2GM\", \"text\", \"NER\")\n",
    "\n",
    "result_score, result_detail = bc2gmrun.run_similarity_comparer(\"eval\", bc2gm_train_eval_file,  bc2gm_test_eval_file)\n",
    "df_bc2_gm_eval = scores_to_df(result_score,result_detail, \"BC2GM\", \"anno\", \"NER\")\n",
    "\n",
    "df_bc2_gm = pd.concat([df_bc2_gm_text, df_bc2_gm_eval])"
   ]
  },
  {
   "cell_type": "code",
   "execution_count": 6,
   "metadata": {},
   "outputs": [
    {
     "data": {
      "text/html": [
       "<div>\n",
       "<style scoped>\n",
       "    .dataframe tbody tr th:only-of-type {\n",
       "        vertical-align: middle;\n",
       "    }\n",
       "\n",
       "    .dataframe tbody tr th {\n",
       "        vertical-align: top;\n",
       "    }\n",
       "\n",
       "    .dataframe thead th {\n",
       "        text-align: right;\n",
       "    }\n",
       "</style>\n",
       "<table border=\"1\" class=\"dataframe\">\n",
       "  <thead>\n",
       "    <tr style=\"text-align: right;\">\n",
       "      <th></th>\n",
       "      <th>Unigram</th>\n",
       "      <th>Bigram</th>\n",
       "      <th>Trigram</th>\n",
       "      <th>Unigram_detail</th>\n",
       "      <th>Bigram_detail</th>\n",
       "      <th>Trigram_detail</th>\n",
       "      <th>data_set</th>\n",
       "      <th>task_type</th>\n",
       "    </tr>\n",
       "  </thead>\n",
       "  <tbody>\n",
       "    <tr>\n",
       "      <th>6138</th>\n",
       "      <td>70.710678</td>\n",
       "      <td>0.000000</td>\n",
       "      <td>0.000000</td>\n",
       "      <td>(prolactin gene, prolactin)</td>\n",
       "      <td>(prolactin gene, alkaline phosphatases)</td>\n",
       "      <td>(prolactin gene, alkaline phosphatases)</td>\n",
       "      <td>BC2GM anno</td>\n",
       "      <td>NER</td>\n",
       "    </tr>\n",
       "    <tr>\n",
       "      <th>2844</th>\n",
       "      <td>48.038446</td>\n",
       "      <td>21.081851</td>\n",
       "      <td>11.785113</td>\n",
       "      <td>(Total body water and distribution space of Na...</td>\n",
       "      <td>(Total body water and distribution space of Na...</td>\n",
       "      <td>(Total body water and distribution space of Na...</td>\n",
       "      <td>BC2GM text</td>\n",
       "      <td>NER</td>\n",
       "    </tr>\n",
       "  </tbody>\n",
       "</table>\n",
       "</div>"
      ],
      "text/plain": [
       "        Unigram     Bigram    Trigram  \\\n",
       "6138  70.710678   0.000000   0.000000   \n",
       "2844  48.038446  21.081851  11.785113   \n",
       "\n",
       "                                         Unigram_detail  \\\n",
       "6138                        (prolactin gene, prolactin)   \n",
       "2844  (Total body water and distribution space of Na...   \n",
       "\n",
       "                                          Bigram_detail  \\\n",
       "6138            (prolactin gene, alkaline phosphatases)   \n",
       "2844  (Total body water and distribution space of Na...   \n",
       "\n",
       "                                         Trigram_detail    data_set task_type  \n",
       "6138            (prolactin gene, alkaline phosphatases)  BC2GM anno       NER  \n",
       "2844  (Total body water and distribution space of Na...  BC2GM text       NER  "
      ]
     },
     "execution_count": 6,
     "metadata": {},
     "output_type": "execute_result"
    }
   ],
   "source": [
    "df_bc2_gm.sample(n=2)"
   ]
  },
  {
   "cell_type": "code",
   "execution_count": 7,
   "metadata": {},
   "outputs": [
    {
     "data": {
      "text/html": [
       "<div>\n",
       "<style scoped>\n",
       "    .dataframe tbody tr th:only-of-type {\n",
       "        vertical-align: middle;\n",
       "    }\n",
       "\n",
       "    .dataframe tbody tr th {\n",
       "        vertical-align: top;\n",
       "    }\n",
       "\n",
       "    .dataframe thead th {\n",
       "        text-align: right;\n",
       "    }\n",
       "</style>\n",
       "<table border=\"1\" class=\"dataframe\">\n",
       "  <thead>\n",
       "    <tr style=\"text-align: right;\">\n",
       "      <th></th>\n",
       "      <th></th>\n",
       "      <th>Unigram</th>\n",
       "      <th>Bigram</th>\n",
       "      <th>Trigram</th>\n",
       "    </tr>\n",
       "    <tr>\n",
       "      <th>data_set</th>\n",
       "      <th></th>\n",
       "      <th></th>\n",
       "      <th></th>\n",
       "      <th></th>\n",
       "    </tr>\n",
       "  </thead>\n",
       "  <tbody>\n",
       "    <tr>\n",
       "      <th rowspan=\"8\" valign=\"top\">BC2GM anno</th>\n",
       "      <th>count</th>\n",
       "      <td>6331.000000</td>\n",
       "      <td>6331.000000</td>\n",
       "      <td>6331.000000</td>\n",
       "    </tr>\n",
       "    <tr>\n",
       "      <th>mean</th>\n",
       "      <td>70.766285</td>\n",
       "      <td>19.552406</td>\n",
       "      <td>5.411720</td>\n",
       "    </tr>\n",
       "    <tr>\n",
       "      <th>std</th>\n",
       "      <td>35.975868</td>\n",
       "      <td>35.854864</td>\n",
       "      <td>20.895407</td>\n",
       "    </tr>\n",
       "    <tr>\n",
       "      <th>min</th>\n",
       "      <td>0.000000</td>\n",
       "      <td>0.000000</td>\n",
       "      <td>0.000000</td>\n",
       "    </tr>\n",
       "    <tr>\n",
       "      <th>25%</th>\n",
       "      <td>57.735027</td>\n",
       "      <td>0.000000</td>\n",
       "      <td>0.000000</td>\n",
       "    </tr>\n",
       "    <tr>\n",
       "      <th>50%</th>\n",
       "      <td>81.649658</td>\n",
       "      <td>0.000000</td>\n",
       "      <td>0.000000</td>\n",
       "    </tr>\n",
       "    <tr>\n",
       "      <th>75%</th>\n",
       "      <td>100.000000</td>\n",
       "      <td>25.819889</td>\n",
       "      <td>0.000000</td>\n",
       "    </tr>\n",
       "    <tr>\n",
       "      <th>max</th>\n",
       "      <td>100.000000</td>\n",
       "      <td>100.000000</td>\n",
       "      <td>100.000000</td>\n",
       "    </tr>\n",
       "    <tr>\n",
       "      <th rowspan=\"8\" valign=\"top\">BC2GM text</th>\n",
       "      <th>count</th>\n",
       "      <td>5000.000000</td>\n",
       "      <td>5000.000000</td>\n",
       "      <td>5000.000000</td>\n",
       "    </tr>\n",
       "    <tr>\n",
       "      <th>mean</th>\n",
       "      <td>33.191640</td>\n",
       "      <td>13.122176</td>\n",
       "      <td>4.200074</td>\n",
       "    </tr>\n",
       "    <tr>\n",
       "      <th>std</th>\n",
       "      <td>11.568668</td>\n",
       "      <td>10.636721</td>\n",
       "      <td>9.330504</td>\n",
       "    </tr>\n",
       "    <tr>\n",
       "      <th>min</th>\n",
       "      <td>0.000000</td>\n",
       "      <td>0.000000</td>\n",
       "      <td>0.000000</td>\n",
       "    </tr>\n",
       "    <tr>\n",
       "      <th>25%</th>\n",
       "      <td>26.311741</td>\n",
       "      <td>8.058230</td>\n",
       "      <td>0.000000</td>\n",
       "    </tr>\n",
       "    <tr>\n",
       "      <th>50%</th>\n",
       "      <td>31.622777</td>\n",
       "      <td>12.171612</td>\n",
       "      <td>0.000000</td>\n",
       "    </tr>\n",
       "    <tr>\n",
       "      <th>75%</th>\n",
       "      <td>38.336508</td>\n",
       "      <td>17.320508</td>\n",
       "      <td>7.161149</td>\n",
       "    </tr>\n",
       "    <tr>\n",
       "      <th>max</th>\n",
       "      <td>100.000000</td>\n",
       "      <td>100.000000</td>\n",
       "      <td>100.000000</td>\n",
       "    </tr>\n",
       "  </tbody>\n",
       "</table>\n",
       "</div>"
      ],
      "text/plain": [
       "                      Unigram       Bigram      Trigram\n",
       "data_set                                               \n",
       "BC2GM anno count  6331.000000  6331.000000  6331.000000\n",
       "           mean     70.766285    19.552406     5.411720\n",
       "           std      35.975868    35.854864    20.895407\n",
       "           min       0.000000     0.000000     0.000000\n",
       "           25%      57.735027     0.000000     0.000000\n",
       "           50%      81.649658     0.000000     0.000000\n",
       "           75%     100.000000    25.819889     0.000000\n",
       "           max     100.000000   100.000000   100.000000\n",
       "BC2GM text count  5000.000000  5000.000000  5000.000000\n",
       "           mean     33.191640    13.122176     4.200074\n",
       "           std      11.568668    10.636721     9.330504\n",
       "           min       0.000000     0.000000     0.000000\n",
       "           25%      26.311741     8.058230     0.000000\n",
       "           50%      31.622777    12.171612     0.000000\n",
       "           75%      38.336508    17.320508     7.161149\n",
       "           max     100.000000   100.000000   100.000000"
      ]
     },
     "execution_count": 7,
     "metadata": {},
     "output_type": "execute_result"
    }
   ],
   "source": [
    "df_bc2_gm.groupby([\"data_set\"]).describe().stack()"
   ]
  },
  {
   "cell_type": "code",
   "execution_count": 8,
   "metadata": {},
   "outputs": [
    {
     "data": {
      "text/plain": [
       "('Mutational analysis of yeast CEG1 demonstrated that four of the five conserved motifs are essential for capping enzyme function in vivo.',\n",
       " 'Mutational analysis of yeast CEG1 demonstrated that four of the five conserved motifs are essential for capping enzyme function in vivo.')"
      ]
     },
     "execution_count": 8,
     "metadata": {},
     "output_type": "execute_result"
    }
   ],
   "source": [
    "df_bc2_gm_text.sort_values(by=[\"Unigram\"], ascending=False).head(n=1)[\"Unigram_detail\"].iloc[0]"
   ]
  },
  {
   "cell_type": "code",
   "execution_count": 9,
   "metadata": {},
   "outputs": [
    {
     "data": {
      "text/plain": [
       "('A heterologous promoter construct containing three repeats of a consensus Sp1 site, cloned upstream of a single copy of the ZII (CREB/ AP1) element from the BZLF1 promoter linked to the beta-globin TATA box, exhibited phorbol ester inducibility.',\n",
       " 'A heterologous promoter construct containing three repeats of a consensus Sp1 site, cloned upstream of a single copy of the ZII (CREB/ AP1) element from the BZLF1 promoter linked to the beta-globin TATA box, exhibited phorbol ester inducibility.')"
      ]
     },
     "execution_count": 9,
     "metadata": {},
     "output_type": "execute_result"
    }
   ],
   "source": [
    "df_bc2_gm_text.sort_values(by=[\"Trigram\"], ascending=False).head(n=1)[\"Trigram_detail\"].iloc[0]"
   ]
  },
  {
   "cell_type": "markdown",
   "metadata": {},
   "source": [
    "## 2. AIMED (Random)"
   ]
  },
  {
   "cell_type": "code",
   "execution_count": 10,
   "metadata": {},
   "outputs": [],
   "source": [
    "aimed_file = os.path.join(\"tmp\", \"AIMedFull_preprocessed.json\")"
   ]
  },
  {
   "cell_type": "code",
   "execution_count": 11,
   "metadata": {},
   "outputs": [],
   "source": [
    "from aimed_random import AIMedRandom\n",
    "\n",
    "result_score, result_detail = AIMedRandom().run_similarity_comparer(aimed_file)\n",
    "df_aimed_random = scores_to_df(result_score,result_detail, \"AIMED (R)\", \"\", \"REL\")"
   ]
  },
  {
   "cell_type": "code",
   "execution_count": 12,
   "metadata": {},
   "outputs": [
    {
     "data": {
      "text/html": [
       "<div>\n",
       "<style scoped>\n",
       "    .dataframe tbody tr th:only-of-type {\n",
       "        vertical-align: middle;\n",
       "    }\n",
       "\n",
       "    .dataframe tbody tr th {\n",
       "        vertical-align: top;\n",
       "    }\n",
       "\n",
       "    .dataframe thead th {\n",
       "        text-align: right;\n",
       "    }\n",
       "</style>\n",
       "<table border=\"1\" class=\"dataframe\">\n",
       "  <thead>\n",
       "    <tr style=\"text-align: right;\">\n",
       "      <th></th>\n",
       "      <th></th>\n",
       "      <th>Unigram</th>\n",
       "      <th>Bigram</th>\n",
       "      <th>Trigram</th>\n",
       "    </tr>\n",
       "    <tr>\n",
       "      <th>data_set</th>\n",
       "      <th></th>\n",
       "      <th></th>\n",
       "      <th></th>\n",
       "      <th></th>\n",
       "    </tr>\n",
       "  </thead>\n",
       "  <tbody>\n",
       "    <tr>\n",
       "      <th rowspan=\"8\" valign=\"top\">AIMED (R)</th>\n",
       "      <th>count</th>\n",
       "      <td>584.000000</td>\n",
       "      <td>584.000000</td>\n",
       "      <td>584.000000</td>\n",
       "    </tr>\n",
       "    <tr>\n",
       "      <th>mean</th>\n",
       "      <td>96.947936</td>\n",
       "      <td>82.294414</td>\n",
       "      <td>73.146194</td>\n",
       "    </tr>\n",
       "    <tr>\n",
       "      <th>std</th>\n",
       "      <td>11.921198</td>\n",
       "      <td>18.519621</td>\n",
       "      <td>21.285885</td>\n",
       "    </tr>\n",
       "    <tr>\n",
       "      <th>min</th>\n",
       "      <td>27.498597</td>\n",
       "      <td>8.247861</td>\n",
       "      <td>0.000000</td>\n",
       "    </tr>\n",
       "    <tr>\n",
       "      <th>25%</th>\n",
       "      <td>100.000000</td>\n",
       "      <td>77.777778</td>\n",
       "      <td>66.666667</td>\n",
       "    </tr>\n",
       "    <tr>\n",
       "      <th>50%</th>\n",
       "      <td>100.000000</td>\n",
       "      <td>86.666667</td>\n",
       "      <td>77.777778</td>\n",
       "    </tr>\n",
       "    <tr>\n",
       "      <th>75%</th>\n",
       "      <td>100.000000</td>\n",
       "      <td>93.801712</td>\n",
       "      <td>87.053315</td>\n",
       "    </tr>\n",
       "    <tr>\n",
       "      <th>max</th>\n",
       "      <td>100.000000</td>\n",
       "      <td>100.000000</td>\n",
       "      <td>100.000000</td>\n",
       "    </tr>\n",
       "  </tbody>\n",
       "</table>\n",
       "</div>"
      ],
      "text/plain": [
       "                     Unigram      Bigram     Trigram\n",
       "data_set                                            \n",
       "AIMED (R)  count  584.000000  584.000000  584.000000\n",
       "           mean    96.947936   82.294414   73.146194\n",
       "           std     11.921198   18.519621   21.285885\n",
       "           min     27.498597    8.247861    0.000000\n",
       "           25%    100.000000   77.777778   66.666667\n",
       "           50%    100.000000   86.666667   77.777778\n",
       "           75%    100.000000   93.801712   87.053315\n",
       "           max    100.000000  100.000000  100.000000"
      ]
     },
     "execution_count": 12,
     "metadata": {},
     "output_type": "execute_result"
    }
   ],
   "source": [
    "df_aimed_random.groupby([\"data_set\"]).describe().stack()"
   ]
  },
  {
   "cell_type": "code",
   "execution_count": 13,
   "metadata": {},
   "outputs": [
    {
     "data": {
      "text/plain": [
       "('Using the yeast two-hybrid system, a genetic assay for studying protein-protein interactions, we have examined and compared the interaction of the PROTEIN1 receptor ( PROTEIN2 ) and the PROTEIN ( PROTEIN ) with their two known substrates PROTEIN and the PROTEIN substrate-1 ( PROTEIN ).',\n",
       " 'Using the yeast two-hybrid system, a genetic assay for studying protein-protein interactions, we have examined and compared the interaction of the PROTEIN1 receptor ( PROTEIN ) and the PROTEIN2 ( PROTEIN ) with their two known substrates PROTEIN and the PROTEIN substrate-1 ( PROTEIN ).')"
      ]
     },
     "execution_count": 13,
     "metadata": {},
     "output_type": "execute_result"
    }
   ],
   "source": [
    "df_aimed_random.sort_values(by=[\"Unigram\"], ascending=False).head(n=1)[\"Unigram_detail\"].iloc[0]"
   ]
  },
  {
   "cell_type": "code",
   "execution_count": 14,
   "metadata": {},
   "outputs": [
    {
     "data": {
      "text/plain": [
       "('While the circulating PROTEIN1 of renal origin is acutely activated to contribute to the accomplishment of short term homeostatic reactions, tissue PROTEIN2 , in paracrine or autocrine ways, exerts local-regional adaptive actions of long duration.',\n",
       " 'In the end we refer to the relations between circulating PROTEIN of renal origin and the extrarenal PROTEIN1 specific to tissue underlying the fact that the two PROTEIN2 components cooperate and constitute a unitary hormonal system, regulating the major functions of the organism and maintaining the main homeostatic equilibria.')"
      ]
     },
     "execution_count": 14,
     "metadata": {},
     "output_type": "execute_result"
    }
   ],
   "source": [
    "df_aimed_random.sort_values(by=[\"Unigram\"], ascending=True).head(n=1)[\"Unigram_detail\"].iloc[0]"
   ]
  },
  {
   "cell_type": "markdown",
   "metadata": {},
   "source": [
    "## 3. AIMED (Unqiue Document)"
   ]
  },
  {
   "cell_type": "code",
   "execution_count": 15,
   "metadata": {},
   "outputs": [],
   "source": [
    "from aimed_uniquedoc import AIMedUniqueDoc\n",
    "\n",
    "result_score, result_detail = AIMedUniqueDoc().run_similarity_comparer(aimed_file)\n",
    "df_aimed_unique = scores_to_df(result_score,result_detail, \"AIMED (U)\", \"\", \"REL\")"
   ]
  },
  {
   "cell_type": "code",
   "execution_count": 16,
   "metadata": {},
   "outputs": [
    {
     "data": {
      "text/html": [
       "<div>\n",
       "<style scoped>\n",
       "    .dataframe tbody tr th:only-of-type {\n",
       "        vertical-align: middle;\n",
       "    }\n",
       "\n",
       "    .dataframe tbody tr th {\n",
       "        vertical-align: top;\n",
       "    }\n",
       "\n",
       "    .dataframe thead th {\n",
       "        text-align: right;\n",
       "    }\n",
       "</style>\n",
       "<table border=\"1\" class=\"dataframe\">\n",
       "  <thead>\n",
       "    <tr style=\"text-align: right;\">\n",
       "      <th></th>\n",
       "      <th></th>\n",
       "      <th>Unigram</th>\n",
       "      <th>Bigram</th>\n",
       "      <th>Trigram</th>\n",
       "    </tr>\n",
       "    <tr>\n",
       "      <th>data_set</th>\n",
       "      <th></th>\n",
       "      <th></th>\n",
       "      <th></th>\n",
       "      <th></th>\n",
       "    </tr>\n",
       "  </thead>\n",
       "  <tbody>\n",
       "    <tr>\n",
       "      <th rowspan=\"8\" valign=\"top\">AIMED (U)</th>\n",
       "      <th>count</th>\n",
       "      <td>498.000000</td>\n",
       "      <td>498.000000</td>\n",
       "      <td>498.000000</td>\n",
       "    </tr>\n",
       "    <tr>\n",
       "      <th>mean</th>\n",
       "      <td>67.137026</td>\n",
       "      <td>36.067096</td>\n",
       "      <td>20.770509</td>\n",
       "    </tr>\n",
       "    <tr>\n",
       "      <th>std</th>\n",
       "      <td>15.317615</td>\n",
       "      <td>19.457675</td>\n",
       "      <td>18.481003</td>\n",
       "    </tr>\n",
       "    <tr>\n",
       "      <th>min</th>\n",
       "      <td>28.426762</td>\n",
       "      <td>0.000000</td>\n",
       "      <td>0.000000</td>\n",
       "    </tr>\n",
       "    <tr>\n",
       "      <th>25%</th>\n",
       "      <td>53.935989</td>\n",
       "      <td>21.629523</td>\n",
       "      <td>8.679295</td>\n",
       "    </tr>\n",
       "    <tr>\n",
       "      <th>50%</th>\n",
       "      <td>68.640647</td>\n",
       "      <td>31.622777</td>\n",
       "      <td>14.629372</td>\n",
       "    </tr>\n",
       "    <tr>\n",
       "      <th>75%</th>\n",
       "      <td>78.920519</td>\n",
       "      <td>44.721360</td>\n",
       "      <td>26.726124</td>\n",
       "    </tr>\n",
       "    <tr>\n",
       "      <th>max</th>\n",
       "      <td>87.017654</td>\n",
       "      <td>80.489529</td>\n",
       "      <td>71.632286</td>\n",
       "    </tr>\n",
       "  </tbody>\n",
       "</table>\n",
       "</div>"
      ],
      "text/plain": [
       "                     Unigram      Bigram     Trigram\n",
       "data_set                                            \n",
       "AIMED (U)  count  498.000000  498.000000  498.000000\n",
       "           mean    67.137026   36.067096   20.770509\n",
       "           std     15.317615   19.457675   18.481003\n",
       "           min     28.426762    0.000000    0.000000\n",
       "           25%     53.935989   21.629523    8.679295\n",
       "           50%     68.640647   31.622777   14.629372\n",
       "           75%     78.920519   44.721360   26.726124\n",
       "           max     87.017654   80.489529   71.632286"
      ]
     },
     "execution_count": 16,
     "metadata": {},
     "output_type": "execute_result"
    }
   ],
   "source": [
    "df_aimed_unique.groupby([\"data_set\"]).describe().stack()"
   ]
  },
  {
   "cell_type": "code",
   "execution_count": 17,
   "metadata": {},
   "outputs": [
    {
     "data": {
      "text/plain": [
       "('Using antibody-mediated immunofluorescence copatching of epitope-tagged receptors, we provide evidence in live cells for preexisting heteromeric ( PROTEIN / PROTEIN and PROTEIN / PROTEIN1 ) and homomeric ( PROTEIN / PROTEIN , PROTEIN / PROTEIN , PROTEIN / PROTEIN , and also PROTEIN2 / PROTEIN ) oligomers in the absence of ligand.',\n",
       " ' PROTEIN1 is a potent, tight-binding inhibitor of Cdks and can inhibit the phosphorylation of PROTEIN by PROTEIN - PROTEIN , PROTEIN - PROTEIN , PROTEIN2 - PROTEIN , and PROTEIN - PROTEIN complexes.')"
      ]
     },
     "execution_count": 17,
     "metadata": {},
     "output_type": "execute_result"
    }
   ],
   "source": [
    "df_aimed_unique.sort_values(by=[\"Unigram\"], ascending=False).head(n=1)[\"Unigram_detail\"].iloc[0]"
   ]
  },
  {
   "cell_type": "code",
   "execution_count": 18,
   "metadata": {},
   "outputs": [
    {
     "data": {
      "text/plain": [
       "('In contrast, in normal nasal tissues, PROTEIN1 labeling was only found in the vascular wall, and the expression was weaker--a finding demonstrating that PROTEIN2 is upregulated in nasal polyps.',\n",
       " 'We found PROTEIN1 mRNA in several peripheral tissues, and detected PROTEIN2 protein on cultured vascular endothelial cells.')"
      ]
     },
     "execution_count": 18,
     "metadata": {},
     "output_type": "execute_result"
    }
   ],
   "source": [
    "df_aimed_unique.sort_values(by=[\"Unigram\"], ascending=True).head(n=1)[\"Unigram_detail\"].iloc[0]"
   ]
  },
  {
   "cell_type": "markdown",
   "metadata": {},
   "source": [
    "## 4. SST2 Dataset"
   ]
  },
  {
   "cell_type": "code",
   "execution_count": 19,
   "metadata": {},
   "outputs": [],
   "source": [
    "\n",
    "sst2_train_file = os.path.join(\"tmp\", \"train.tsv\")\n",
    "sst2_test_file = os.path.join(\"tmp\", \"test.tsv\")\n",
    "sst2_sentiment_labels_file  =  os.path.join(\"tmp\", \"sentiment_labels.txt\")\n",
    "sst2_dictionary_file  =  os.path.join(\"tmp\", \"dictionary.txt\") \n",
    "\n"
   ]
  },
  {
   "cell_type": "code",
   "execution_count": 20,
   "metadata": {},
   "outputs": [],
   "source": [
    "from sst2_dataset import SST2Dataset\n",
    "result_score, result_detail =  SST2Dataset().run_similarity_comparer(sst2_train_file,sst2_test_file)\n",
    "df_sst2 = scores_to_df(result_score,result_detail, \"SST2\", \"\", \"CLS\")"
   ]
  },
  {
   "cell_type": "code",
   "execution_count": 21,
   "metadata": {},
   "outputs": [
    {
     "data": {
      "text/html": [
       "<div>\n",
       "<style scoped>\n",
       "    .dataframe tbody tr th:only-of-type {\n",
       "        vertical-align: middle;\n",
       "    }\n",
       "\n",
       "    .dataframe tbody tr th {\n",
       "        vertical-align: top;\n",
       "    }\n",
       "\n",
       "    .dataframe thead th {\n",
       "        text-align: right;\n",
       "    }\n",
       "</style>\n",
       "<table border=\"1\" class=\"dataframe\">\n",
       "  <thead>\n",
       "    <tr style=\"text-align: right;\">\n",
       "      <th></th>\n",
       "      <th></th>\n",
       "      <th>Unigram</th>\n",
       "      <th>Bigram</th>\n",
       "      <th>Trigram</th>\n",
       "    </tr>\n",
       "    <tr>\n",
       "      <th>data_set</th>\n",
       "      <th></th>\n",
       "      <th></th>\n",
       "      <th></th>\n",
       "      <th></th>\n",
       "    </tr>\n",
       "  </thead>\n",
       "  <tbody>\n",
       "    <tr>\n",
       "      <th rowspan=\"8\" valign=\"top\">SST2</th>\n",
       "      <th>count</th>\n",
       "      <td>1821.000000</td>\n",
       "      <td>1821.000000</td>\n",
       "      <td>1821.000000</td>\n",
       "    </tr>\n",
       "    <tr>\n",
       "      <th>mean</th>\n",
       "      <td>46.055815</td>\n",
       "      <td>17.378379</td>\n",
       "      <td>1.388049</td>\n",
       "    </tr>\n",
       "    <tr>\n",
       "      <th>std</th>\n",
       "      <td>14.067934</td>\n",
       "      <td>18.009431</td>\n",
       "      <td>6.733712</td>\n",
       "    </tr>\n",
       "    <tr>\n",
       "      <th>min</th>\n",
       "      <td>0.000000</td>\n",
       "      <td>0.000000</td>\n",
       "      <td>0.000000</td>\n",
       "    </tr>\n",
       "    <tr>\n",
       "      <th>25%</th>\n",
       "      <td>36.514837</td>\n",
       "      <td>0.000000</td>\n",
       "      <td>0.000000</td>\n",
       "    </tr>\n",
       "    <tr>\n",
       "      <th>50%</th>\n",
       "      <td>43.643578</td>\n",
       "      <td>16.666667</td>\n",
       "      <td>0.000000</td>\n",
       "    </tr>\n",
       "    <tr>\n",
       "      <th>75%</th>\n",
       "      <td>53.452248</td>\n",
       "      <td>30.151134</td>\n",
       "      <td>0.000000</td>\n",
       "    </tr>\n",
       "    <tr>\n",
       "      <th>max</th>\n",
       "      <td>100.000000</td>\n",
       "      <td>100.000000</td>\n",
       "      <td>70.710678</td>\n",
       "    </tr>\n",
       "  </tbody>\n",
       "</table>\n",
       "</div>"
      ],
      "text/plain": [
       "                    Unigram       Bigram      Trigram\n",
       "data_set                                             \n",
       "SST2     count  1821.000000  1821.000000  1821.000000\n",
       "         mean     46.055815    17.378379     1.388049\n",
       "         std      14.067934    18.009431     6.733712\n",
       "         min       0.000000     0.000000     0.000000\n",
       "         25%      36.514837     0.000000     0.000000\n",
       "         50%      43.643578    16.666667     0.000000\n",
       "         75%      53.452248    30.151134     0.000000\n",
       "         max     100.000000   100.000000    70.710678"
      ]
     },
     "execution_count": 21,
     "metadata": {},
     "output_type": "execute_result"
    }
   ],
   "source": [
    "df_sst2.groupby([\"data_set\"]).describe().stack()"
   ]
  },
  {
   "cell_type": "code",
   "execution_count": 22,
   "metadata": {},
   "outputs": [
    {
     "name": "stdout",
     "output_type": "stream",
     "text": [
      "still , i thought it could have been more .\n",
      "\n",
      "well-thought \n"
     ]
    }
   ],
   "source": [
    "print(*df_sst2.sort_values(by=[\"Unigram\"], ascending=False).head(n=10)[\"Unigram_detail\"].iloc[5], sep='\\n\\n')"
   ]
  },
  {
   "cell_type": "code",
   "execution_count": 23,
   "metadata": {},
   "outputs": [
    {
     "name": "stdout",
     "output_type": "stream",
     "text": [
      "made by jackasses for jackasses .\n",
      "\n",
      "hide new secretions from the parental units \n"
     ]
    }
   ],
   "source": [
    "print(*df_sst2.sort_values(by=[\"Unigram\"], ascending=True).head(n=10)[\"Unigram_detail\"].iloc[5], sep='\\n\\n')"
   ]
  },
  {
   "cell_type": "markdown",
   "metadata": {},
   "source": [
    "## 5. BC3 Article classification"
   ]
  },
  {
   "cell_type": "code",
   "execution_count": 24,
   "metadata": {},
   "outputs": [],
   "source": [
    "bc3_act_train_file = os.path.join(\"tmp\", \"bc3_act_all_records.tsv\")\n",
    "bc3_act_test_file = os.path.join(\"tmp\", \"bc3_act_all_records_test.tsv\")"
   ]
  },
  {
   "cell_type": "code",
   "execution_count": 25,
   "metadata": {},
   "outputs": [],
   "source": [
    "from bc3_article_classification import BC3ArticleClassification\n",
    "\n",
    "result_score, result_detail = BC3ArticleClassification().run_similarity_comparer(bc3_act_train_file,  bc3_act_test_file)\n",
    "df_bc3_act = scores_to_df(result_score,result_detail, \"BC3ACT\", \"\", \"CLS\")"
   ]
  },
  {
   "cell_type": "code",
   "execution_count": 26,
   "metadata": {},
   "outputs": [
    {
     "data": {
      "text/html": [
       "<div>\n",
       "<style scoped>\n",
       "    .dataframe tbody tr th:only-of-type {\n",
       "        vertical-align: middle;\n",
       "    }\n",
       "\n",
       "    .dataframe tbody tr th {\n",
       "        vertical-align: top;\n",
       "    }\n",
       "\n",
       "    .dataframe thead th {\n",
       "        text-align: right;\n",
       "    }\n",
       "</style>\n",
       "<table border=\"1\" class=\"dataframe\">\n",
       "  <thead>\n",
       "    <tr style=\"text-align: right;\">\n",
       "      <th></th>\n",
       "      <th>Unigram</th>\n",
       "      <th>Bigram</th>\n",
       "      <th>Trigram</th>\n",
       "    </tr>\n",
       "  </thead>\n",
       "  <tbody>\n",
       "    <tr>\n",
       "      <th>count</th>\n",
       "      <td>6000.000000</td>\n",
       "      <td>6000.000000</td>\n",
       "      <td>6000.000000</td>\n",
       "    </tr>\n",
       "    <tr>\n",
       "      <th>mean</th>\n",
       "      <td>26.760271</td>\n",
       "      <td>6.907863</td>\n",
       "      <td>1.807134</td>\n",
       "    </tr>\n",
       "    <tr>\n",
       "      <th>std</th>\n",
       "      <td>9.325118</td>\n",
       "      <td>5.474373</td>\n",
       "      <td>1.728708</td>\n",
       "    </tr>\n",
       "    <tr>\n",
       "      <th>min</th>\n",
       "      <td>6.277610</td>\n",
       "      <td>0.000000</td>\n",
       "      <td>0.000000</td>\n",
       "    </tr>\n",
       "    <tr>\n",
       "      <th>25%</th>\n",
       "      <td>20.094071</td>\n",
       "      <td>3.474651</td>\n",
       "      <td>0.835709</td>\n",
       "    </tr>\n",
       "    <tr>\n",
       "      <th>50%</th>\n",
       "      <td>25.677218</td>\n",
       "      <td>5.298225</td>\n",
       "      <td>1.476668</td>\n",
       "    </tr>\n",
       "    <tr>\n",
       "      <th>75%</th>\n",
       "      <td>31.914209</td>\n",
       "      <td>8.530364</td>\n",
       "      <td>2.352489</td>\n",
       "    </tr>\n",
       "    <tr>\n",
       "      <th>max</th>\n",
       "      <td>75.011317</td>\n",
       "      <td>51.197969</td>\n",
       "      <td>18.973666</td>\n",
       "    </tr>\n",
       "  </tbody>\n",
       "</table>\n",
       "</div>"
      ],
      "text/plain": [
       "           Unigram       Bigram      Trigram\n",
       "count  6000.000000  6000.000000  6000.000000\n",
       "mean     26.760271     6.907863     1.807134\n",
       "std       9.325118     5.474373     1.728708\n",
       "min       6.277610     0.000000     0.000000\n",
       "25%      20.094071     3.474651     0.835709\n",
       "50%      25.677218     5.298225     1.476668\n",
       "75%      31.914209     8.530364     2.352489\n",
       "max      75.011317    51.197969    18.973666"
      ]
     },
     "execution_count": 26,
     "metadata": {},
     "output_type": "execute_result"
    }
   ],
   "source": [
    "df_bc3_act.describe()"
   ]
  },
  {
   "cell_type": "code",
   "execution_count": 27,
   "metadata": {},
   "outputs": [
    {
     "name": "stdout",
     "output_type": "stream",
     "text": [
      "Wnt/beta-catenin and NF-kappaB signaling mechanisms provide central controls in development and disease, but how these pathways intersect is unclear. Using hair follicle induction as a model system, we show that patterning of dermal Wnt/beta-catenin signaling requires epithelial beta-catenin activity. We find that Wnt/beta-catenin signaling is absolutely required for NF-kappaB activation, and that Edar is a direct Wnt target gene. Wnt/beta-catenin signaling is initially activated independently of EDA/EDAR/NF-kappaB activity in primary hair follicle primordia. However, Eda/Edar/NF-kappaB signaling is required to refine the pattern of Wnt/beta-catenin activity, and to maintain this activity at later stages of placode development. We show that maintenance of localized expression of Wnt10b and Wnt10a requires NF-kappaB signaling, providing a molecular explanation for the latter observation, and identify Wnt10b as a direct NF-kappaB target. These data reveal a complex interplay and interdependence of Wnt/beta-catenin and EDA/EDAR/NF-kappaB signaling pathways in initiation and maintenance of primary hair follicle placodes.\n",
      "\n",
      "Germline mutations in the adenomatous polyposis coli (APC) gene are responsible for familial adenomatous polyposis (FAP), an autosomal dominant hereditary predisposition to the development of multiple colorectal adenomas and of a broad spectrum of extra-intestinal tumors. Moreover, somatic APC mutations play a rate-limiting and initiating role in the majority of sporadic colorectal cancers. Notwithstanding its multifunctional nature, the main tumor suppressing activity of the APC gene resides in its ability to regulate Wnt/beta-catenin signaling. Notably, genotype-phenotype correlations have been established at the APC gene between the length and stability of the truncated proteins encoded by different mutant alleles, the corresponding levels of Wnt/beta-catenin signaling activity they encode for, and the incidence and distribution of intestinal and extra-intestinal tumors. Here, we report a novel mouse model, Apc1572T, obtained by targeting a truncated mutation at codon 1572 in the endogenous Apc gene. This hypomorphic mutant allele results in intermediate levels of Wnt/beta-catenin signaling activation when compared with other Apc mutations associated with multifocal intestinal tumors. Notwithstanding the constitutive nature of the mutation, Apc(+/1572T) mice have no predisposition to intestinal cancer but develop multifocal mammary adenocarcinomas and subsequent pulmonary metastases in both genders. The histology of the Apc1572T primary mammary tumours is highly heterogeneous with luminal, myoepithelial, and squamous lineages and is reminiscent of metaplastic carcinoma of the breast in humans. The striking phenotype of Apc(+/1572T) mice suggests that specific dosages of Wnt/beta-catenin signaling activity differentially affect tissue homeostasis and initiate tumorigenesis in an organ-specific fashion.\n"
     ]
    }
   ],
   "source": [
    "print(*df_bc3_act.sort_values(by=[\"Trigram\"], ascending=False).head(n=1)[\"Trigram_detail\"]\n",
    "      .iloc[0], sep='\\n\\n')"
   ]
  },
  {
   "cell_type": "code",
   "execution_count": 28,
   "metadata": {},
   "outputs": [
    {
     "name": "stdout",
     "output_type": "stream",
     "text": [
      "BACKGROUND AND AIMS: Celiac sprue is a life-long disease characterized by an intestinal inflammatory response to dietary gluten. A gluten-free diet is an effective treatment for most patients, but accidental ingestion of gluten is common, leading to incomplete recovery or relapse. Food-grade proteases capable of detoxifying moderate quantities of dietary gluten could mitigate this problem. METHODS: We evaluated the gluten detoxification properties of two food-grade enzymes, aspergillopepsin (ASP) from Aspergillus niger and dipeptidyl peptidase IV (DPPIV) from Aspergillus oryzae. The ability of each enzyme to hydrolyze gluten was tested against synthetic gluten peptides, a recombinant gluten protein, and simulated gastric digests of whole gluten and whole-wheat bread. Reaction products were analyzed by mass spectrometry, HPLC, ELISA with a monoclonal antibody that recognizes an immunodominant gluten epitope, and a T cell proliferation assay. RESULTS: ASP markedly enhanced gluten digestion relative to pepsin, and cleaved recombinant alpha2-gliadin at multiple sites in a non-specific manner. When used alone, neither ASP nor DPPIV efficiently cleaved synthetic immunotoxic gluten peptides. This lack of specificity for gluten was especially evident in the presence of casein, a competing dietary protein. However, supplementation of ASP with DPPIV enabled detoxification of moderate amounts of gluten in the presence of excess casein and in whole-wheat bread. ASP was also effective at enhancing the gluten-detoxifying efficacy of cysteine endoprotease EP-B2 under simulated gastric conditions. CONCLUSIONS: Clinical studies are warranted to evaluate whether a fixed dose ratio combination of ASP and DPPIV can provide near-term relief for celiac patients suffering from inadvertent gluten exposure. Due to its markedly greater hydrolytic activity against gluten than endogenous pepsin, food-grade ASP may also augment the activity of therapeutically relevant doses of glutenases such as EP-B2 and certain prolyl endopeptidases.\n",
      "\n",
      "AIM: To determine the prevalence of a new set of anti-glycan and anti-outer membrane protein (anti-OMP) antibodies in a Hungarian cohort of adult Celiac disease (CD) patients. METHODS: 190 consecutive CD patients [M/F: 71/119, age:39.9 (SD:14.1) years], 100 healthy, and 48 gastrointestinal controls were tested for glycan anti-Saccharomyces cerevisiae (gASCA), anti-laminaribioside (ALCA), anti-chitobioside, anti-mannobioside, anti-OMP antibodies and major NOD2/CARD15 mutations. Thirty out of 82 CD patients enrolled at the time of diagnosis were re-evaluated for the same antibodies after longstanding gluten-free diet (GFD). RESULTS: 65.9% of the CD patients were positive for at least one of the tested antibodies at the time of the diagnosis. Except anti-OMP and ALCA, anti-microbial antibodies were exclusively seen in untreated CD; however, the overall sensitivity was low. Any glycan positivity (LR+: 3.13; 95% CI: 2.08-4.73) was associated with an increased likelihood ratio for diagnosing CD. Significant correlation was found between the levels of anti-glycan and anti-endomysial or anti-transglutaminase antibodies. Anti-glycan positivity was lost after longstanding GFD. Anti-glycan antibody titers were associated with symptoms at presentation, but not the presence of NOD2/CARD15 mutations. Patients with severe malabsorption more frequently had multiple antibodies at diagnosis (P = 0.019). CONCLUSION: The presence of anti-glycan antibodies in CD seems to be secondary to the impaired small bowel mucosa which can lead to increased antigen presentation. Furthermore, anti-glycan positivity may be considered an additional marker of CD and dietary adherence.\n"
     ]
    }
   ],
   "source": [
    "print(*df_bc3_act.sort_values(by=[\"Unigram\"], ascending=True).head(n=10)[\"Unigram_detail\"].iloc[5], sep='\\n\\n')"
   ]
  },
  {
   "cell_type": "markdown",
   "metadata": {},
   "source": [
    "## Chemu"
   ]
  },
  {
   "cell_type": "code",
   "execution_count": 29,
   "metadata": {},
   "outputs": [],
   "source": [
    "chemu_train_dir = os.path.join(\"tmp\", \"chemu\", \"train\")\n",
    "chemu_test_dir = os.path.join(\"tmp\", \"chemu\", \"test\")"
   ]
  },
  {
   "cell_type": "code",
   "execution_count": 30,
   "metadata": {},
   "outputs": [],
   "source": [
    "from chemu_gene_mention import ChemuGeneMention"
   ]
  },
  {
   "cell_type": "code",
   "execution_count": 31,
   "metadata": {},
   "outputs": [],
   "source": [
    "\n",
    "chemurun = ChemuGeneMention()\n",
    "result_score, result_detail = chemurun.run_similarity_comparer( chemu_train_dir,  chemu_test_dir, \"text\")\n",
    "df_chemu_text = scores_to_df(result_score,result_detail, \"Chemu\", \"text\", \"NER\")\n",
    "\n",
    "result_score, result_detail = chemurun.run_similarity_comparer( chemu_train_dir,  chemu_test_dir, \"entity\")\n",
    "df_chemu_eval = scores_to_df(result_score,result_detail, \"Chemu\", \"anno\", \"NER\")\n",
    "\n",
    "df_chemu = pd.concat([df_chemu_text, df_chemu_eval])"
   ]
  },
  {
   "cell_type": "code",
   "execution_count": 32,
   "metadata": {},
   "outputs": [
    {
     "data": {
      "text/html": [
       "<div>\n",
       "<style scoped>\n",
       "    .dataframe tbody tr th:only-of-type {\n",
       "        vertical-align: middle;\n",
       "    }\n",
       "\n",
       "    .dataframe tbody tr th {\n",
       "        vertical-align: top;\n",
       "    }\n",
       "\n",
       "    .dataframe thead th {\n",
       "        text-align: right;\n",
       "    }\n",
       "</style>\n",
       "<table border=\"1\" class=\"dataframe\">\n",
       "  <thead>\n",
       "    <tr style=\"text-align: right;\">\n",
       "      <th></th>\n",
       "      <th>Unigram</th>\n",
       "      <th>Bigram</th>\n",
       "      <th>Trigram</th>\n",
       "      <th>Unigram_detail</th>\n",
       "      <th>Bigram_detail</th>\n",
       "      <th>Trigram_detail</th>\n",
       "      <th>data_set</th>\n",
       "      <th>task_type</th>\n",
       "    </tr>\n",
       "  </thead>\n",
       "  <tbody>\n",
       "    <tr>\n",
       "      <th>0</th>\n",
       "      <td>88.160570</td>\n",
       "      <td>73.775566</td>\n",
       "      <td>66.167284</td>\n",
       "      <td>(Example 55\\nTo a suspension of 6-(2-amino-5-c...</td>\n",
       "      <td>(Example 55\\nTo a suspension of 6-(2-amino-5-c...</td>\n",
       "      <td>(Example 55\\nTo a suspension of 6-(2-amino-5-c...</td>\n",
       "      <td>Chemu text</td>\n",
       "      <td>NER</td>\n",
       "    </tr>\n",
       "    <tr>\n",
       "      <th>1</th>\n",
       "      <td>59.438230</td>\n",
       "      <td>33.936262</td>\n",
       "      <td>19.367281</td>\n",
       "      <td>(Step 9: tert-butyl (2R,3S)-2-(2,5-difluorophe...</td>\n",
       "      <td>(Step 9: tert-butyl (2R,3S)-2-(2,5-difluorophe...</td>\n",
       "      <td>(Step 9: tert-butyl (2R,3S)-2-(2,5-difluorophe...</td>\n",
       "      <td>Chemu text</td>\n",
       "      <td>NER</td>\n",
       "    </tr>\n",
       "    <tr>\n",
       "      <th>2</th>\n",
       "      <td>79.425707</td>\n",
       "      <td>52.160029</td>\n",
       "      <td>46.756433</td>\n",
       "      <td>(Example 9\\n5-((6S,8R)-7-((1-fluorocyclopropyl...</td>\n",
       "      <td>(Example 9\\n5-((6S,8R)-7-((1-fluorocyclopropyl...</td>\n",
       "      <td>(Example 9\\n5-((6S,8R)-7-((1-fluorocyclopropyl...</td>\n",
       "      <td>Chemu text</td>\n",
       "      <td>NER</td>\n",
       "    </tr>\n",
       "    <tr>\n",
       "      <th>3</th>\n",
       "      <td>50.937163</td>\n",
       "      <td>13.844644</td>\n",
       "      <td>7.317617</td>\n",
       "      <td>(3,5-Dichloro-4-(5-fluoro-2-methyl-4-oxo-1,7-n...</td>\n",
       "      <td>(3,5-Dichloro-4-(5-fluoro-2-methyl-4-oxo-1,7-n...</td>\n",
       "      <td>(3,5-Dichloro-4-(5-fluoro-2-methyl-4-oxo-1,7-n...</td>\n",
       "      <td>Chemu text</td>\n",
       "      <td>NER</td>\n",
       "    </tr>\n",
       "    <tr>\n",
       "      <th>4</th>\n",
       "      <td>57.138872</td>\n",
       "      <td>18.352924</td>\n",
       "      <td>5.902813</td>\n",
       "      <td>(Example 73\\nPreparation of 2-chloro-3-fluoro-...</td>\n",
       "      <td>(Example 73\\nPreparation of 2-chloro-3-fluoro-...</td>\n",
       "      <td>(Example 73\\nPreparation of 2-chloro-3-fluoro-...</td>\n",
       "      <td>Chemu text</td>\n",
       "      <td>NER</td>\n",
       "    </tr>\n",
       "  </tbody>\n",
       "</table>\n",
       "</div>"
      ],
      "text/plain": [
       "     Unigram     Bigram    Trigram  \\\n",
       "0  88.160570  73.775566  66.167284   \n",
       "1  59.438230  33.936262  19.367281   \n",
       "2  79.425707  52.160029  46.756433   \n",
       "3  50.937163  13.844644   7.317617   \n",
       "4  57.138872  18.352924   5.902813   \n",
       "\n",
       "                                      Unigram_detail  \\\n",
       "0  (Example 55\\nTo a suspension of 6-(2-amino-5-c...   \n",
       "1  (Step 9: tert-butyl (2R,3S)-2-(2,5-difluorophe...   \n",
       "2  (Example 9\\n5-((6S,8R)-7-((1-fluorocyclopropyl...   \n",
       "3  (3,5-Dichloro-4-(5-fluoro-2-methyl-4-oxo-1,7-n...   \n",
       "4  (Example 73\\nPreparation of 2-chloro-3-fluoro-...   \n",
       "\n",
       "                                       Bigram_detail  \\\n",
       "0  (Example 55\\nTo a suspension of 6-(2-amino-5-c...   \n",
       "1  (Step 9: tert-butyl (2R,3S)-2-(2,5-difluorophe...   \n",
       "2  (Example 9\\n5-((6S,8R)-7-((1-fluorocyclopropyl...   \n",
       "3  (3,5-Dichloro-4-(5-fluoro-2-methyl-4-oxo-1,7-n...   \n",
       "4  (Example 73\\nPreparation of 2-chloro-3-fluoro-...   \n",
       "\n",
       "                                      Trigram_detail    data_set task_type  \n",
       "0  (Example 55\\nTo a suspension of 6-(2-amino-5-c...  Chemu text       NER  \n",
       "1  (Step 9: tert-butyl (2R,3S)-2-(2,5-difluorophe...  Chemu text       NER  \n",
       "2  (Example 9\\n5-((6S,8R)-7-((1-fluorocyclopropyl...  Chemu text       NER  \n",
       "3  (3,5-Dichloro-4-(5-fluoro-2-methyl-4-oxo-1,7-n...  Chemu text       NER  \n",
       "4  (Example 73\\nPreparation of 2-chloro-3-fluoro-...  Chemu text       NER  "
      ]
     },
     "execution_count": 32,
     "metadata": {},
     "output_type": "execute_result"
    }
   ],
   "source": [
    "df_chemu.head()"
   ]
  },
  {
   "cell_type": "code",
   "execution_count": 33,
   "metadata": {},
   "outputs": [
    {
     "name": "stdout",
     "output_type": "stream",
     "text": [
      "To a solution of 5-Bromo-4-methoxy-pyridin-2-ylamine (53 g, 0.261 mol, 1.0 eq.) in EtOH:H2O=4:1 (500 mL) is added chloro-acetaldehyde (24.589 g, 0.313 mol, 1.2 eq.), then NaHCO3 (26.3 g, 0.313 mol, 1.2 eq.) is added. The resultant mixture is heated to 90° C. for 4 h. After cooling to r.t., the organic solvent is evaporated. The residue is extracted with DCM (200 mL×3). The organic layer are combined, dried over Na2SO4, filtered and concentrated. The crude product is purified by silica gel chromatography (DCM:MeOH=50:1) to afford compound 6-Bromo-7-methoxy-imidazo[1,2-a]pyridine (39 g, 66%) as a brown solid.\n",
      "\n",
      "Step 1. N-(5-bromo-2-fluoropyridin-3-yl)ethanesulfonamide\n",
      "To a solution of 5-bromo-2-fluoropyridin-3-amine (3 g, 20 mmol) in pyridine (10 mL) and DCM (20 mL) at room temperature was added ethanesulfonyl chloride (2.2 mL, 24 mmol). After stirring for 30 min, the solvent was evaporated. The resulting residue was diluted with MeOH (4 mL) and partitioned between EtOAc and brine. The organic layer was separated, and the aq. layer was extracted with EtOAc. The combined organic layers were dried over Na2SO4, filtered, and concentrated. Purification via silica gel chromatography afforded the title compound (2 g, 40%). LCMS for C7H9BrFN2O2S (M+H)+: calculated m/z=283.0, 285.0; found 283.0, 284.9.\n"
     ]
    }
   ],
   "source": [
    "print(*df_chemu_text.sort_values(by=[\"Unigram\"], ascending=True).head(n=10)[\"Unigram_detail\"].iloc[5], sep='\\n\\n')"
   ]
  },
  {
   "cell_type": "code",
   "execution_count": 34,
   "metadata": {},
   "outputs": [
    {
     "name": "stdout",
     "output_type": "stream",
     "text": [
      "EXAMPLE 6\n",
      "5-(3-methoxyphenyl)-3-methyl-1-{2-oxo-2-[4-(2-oxo-1,4-dihydro-2H-quinazolin-3-yl)-piperidin-1-yl]-ethyl}-1H-pyrimidine-2,4-dione (reaction scheme 1, compound 6)\n",
      "Similarly to example 1.8, starting from 71 mg (0.5 mmol) of 3-methoxyphenylboronic acid and 150 mg (0.3 mmol) of 5-bromo-3-methyl-1-{2-oxo-2-[4-(2-oxo-1,4-dihydro-2H-quinazolin-3-yl)-piperidin-1-yl]-ethyl}-1H-pyrimidine-2,4-dione (prepared as described in example 2.5), 120 mg (77%) of 5-(3-methoxyphenyl)-3-methyl-1-{2-oxo-2-[4-(2-oxo-1,4-dihydro-2H-quinazolin-3-yl)-piperidin-1-yl]-ethyl}-1H-pyrimidine-2,4-dione is obtained in the form of a white solid with a melting point of 251° C.\n",
      "\n",
      "EXAMPLE 4\n",
      "5-(3-fluorophenyl)-3-methyl-1-{2-oxo-2-[4-(2-oxo-1,4-dihydro-2H-quinazolin-3-yl)-piperidin-1-yl]-ethyl}-1H-pyrimidine-2,4-dione (reaction scheme 1, compound 4)\n",
      "Similarly to example 1.8, starting from 66 mg (0.5 mmol) of 3-fluorophenylboronic acid and 150 mg (0.3 mmol) of 5-bromo-3-methyl-1-{2-oxo-2-[4-(2-oxo-1,4-dihydro-2H-quinazolin-3-yl)-piperidin-1-yl]-ethyl}-1H-pyrimidine-2,4-dione (prepared as described in example 2.5), 30 mg (20%) of 5-(3-fluorophenyl)-3-methyl-1-{2-oxo-2-[4-(2-oxo-1,4-dihydro-2H-quinazolin-3-yl)-piperidin-1-yl]-ethyl}-1H-pyrimidine-2,4-dione is obtained in the form of a white solid with a melting point of 240° C.\n"
     ]
    }
   ],
   "source": [
    "print(*df_chemu_text.sort_values(by=[\"Unigram\"], ascending=False).head(n=10)[\"Unigram_detail\"].iloc[5], sep='\\n\\n')"
   ]
  },
  {
   "cell_type": "markdown",
   "metadata": {},
   "source": [
    "## Summary"
   ]
  },
  {
   "cell_type": "code",
   "execution_count": 35,
   "metadata": {},
   "outputs": [],
   "source": [
    "df_summary = pd.concat([df_sst2, df_aimed_unique,df_aimed_random, df_bc2_gm, df_bc3_act,df_chemu ])"
   ]
  },
  {
   "cell_type": "code",
   "execution_count": 36,
   "metadata": {},
   "outputs": [
    {
     "data": {
      "text/html": [
       "<div>\n",
       "<style scoped>\n",
       "    .dataframe tbody tr th:only-of-type {\n",
       "        vertical-align: middle;\n",
       "    }\n",
       "\n",
       "    .dataframe tbody tr th {\n",
       "        vertical-align: top;\n",
       "    }\n",
       "\n",
       "    .dataframe thead th {\n",
       "        text-align: right;\n",
       "    }\n",
       "</style>\n",
       "<table border=\"1\" class=\"dataframe\">\n",
       "  <thead>\n",
       "    <tr style=\"text-align: right;\">\n",
       "      <th></th>\n",
       "      <th></th>\n",
       "      <th>Unigram</th>\n",
       "      <th>Bigram</th>\n",
       "      <th>Trigram</th>\n",
       "    </tr>\n",
       "    <tr>\n",
       "      <th>data_set</th>\n",
       "      <th></th>\n",
       "      <th></th>\n",
       "      <th></th>\n",
       "      <th></th>\n",
       "    </tr>\n",
       "  </thead>\n",
       "  <tbody>\n",
       "    <tr>\n",
       "      <th rowspan=\"5\" valign=\"top\">AIMED (R)</th>\n",
       "      <th>count</th>\n",
       "      <td>584.000000</td>\n",
       "      <td>584.000000</td>\n",
       "      <td>584.000000</td>\n",
       "    </tr>\n",
       "    <tr>\n",
       "      <th>mean</th>\n",
       "      <td>96.947936</td>\n",
       "      <td>82.294414</td>\n",
       "      <td>73.146194</td>\n",
       "    </tr>\n",
       "    <tr>\n",
       "      <th>std</th>\n",
       "      <td>11.921198</td>\n",
       "      <td>18.519621</td>\n",
       "      <td>21.285885</td>\n",
       "    </tr>\n",
       "    <tr>\n",
       "      <th>min</th>\n",
       "      <td>27.498597</td>\n",
       "      <td>8.247861</td>\n",
       "      <td>0.000000</td>\n",
       "    </tr>\n",
       "    <tr>\n",
       "      <th>25%</th>\n",
       "      <td>100.000000</td>\n",
       "      <td>77.777778</td>\n",
       "      <td>66.666667</td>\n",
       "    </tr>\n",
       "    <tr>\n",
       "      <th>...</th>\n",
       "      <th>...</th>\n",
       "      <td>...</td>\n",
       "      <td>...</td>\n",
       "      <td>...</td>\n",
       "    </tr>\n",
       "    <tr>\n",
       "      <th rowspan=\"5\" valign=\"top\">SST2</th>\n",
       "      <th>min</th>\n",
       "      <td>0.000000</td>\n",
       "      <td>0.000000</td>\n",
       "      <td>0.000000</td>\n",
       "    </tr>\n",
       "    <tr>\n",
       "      <th>25%</th>\n",
       "      <td>36.514837</td>\n",
       "      <td>0.000000</td>\n",
       "      <td>0.000000</td>\n",
       "    </tr>\n",
       "    <tr>\n",
       "      <th>50%</th>\n",
       "      <td>43.643578</td>\n",
       "      <td>16.666667</td>\n",
       "      <td>0.000000</td>\n",
       "    </tr>\n",
       "    <tr>\n",
       "      <th>75%</th>\n",
       "      <td>53.452248</td>\n",
       "      <td>30.151134</td>\n",
       "      <td>0.000000</td>\n",
       "    </tr>\n",
       "    <tr>\n",
       "      <th>max</th>\n",
       "      <td>100.000000</td>\n",
       "      <td>100.000000</td>\n",
       "      <td>70.710678</td>\n",
       "    </tr>\n",
       "  </tbody>\n",
       "</table>\n",
       "<p>64 rows × 3 columns</p>\n",
       "</div>"
      ],
      "text/plain": [
       "                     Unigram      Bigram     Trigram\n",
       "data_set                                            \n",
       "AIMED (R)  count  584.000000  584.000000  584.000000\n",
       "           mean    96.947936   82.294414   73.146194\n",
       "           std     11.921198   18.519621   21.285885\n",
       "           min     27.498597    8.247861    0.000000\n",
       "           25%    100.000000   77.777778   66.666667\n",
       "...                      ...         ...         ...\n",
       "SST2       min      0.000000    0.000000    0.000000\n",
       "           25%     36.514837    0.000000    0.000000\n",
       "           50%     43.643578   16.666667    0.000000\n",
       "           75%     53.452248   30.151134    0.000000\n",
       "           max    100.000000  100.000000   70.710678\n",
       "\n",
       "[64 rows x 3 columns]"
      ]
     },
     "execution_count": 36,
     "metadata": {},
     "output_type": "execute_result"
    }
   ],
   "source": [
    "df_summary.groupby([\"data_set\"]).describe().stack()"
   ]
  },
  {
   "cell_type": "code",
   "execution_count": 37,
   "metadata": {},
   "outputs": [
    {
     "data": {
      "text/html": [
       "<div>\n",
       "<style scoped>\n",
       "    .dataframe tbody tr th:only-of-type {\n",
       "        vertical-align: middle;\n",
       "    }\n",
       "\n",
       "    .dataframe tbody tr th {\n",
       "        vertical-align: top;\n",
       "    }\n",
       "\n",
       "    .dataframe thead th {\n",
       "        text-align: right;\n",
       "    }\n",
       "</style>\n",
       "<table border=\"1\" class=\"dataframe\">\n",
       "  <thead>\n",
       "    <tr style=\"text-align: right;\">\n",
       "      <th></th>\n",
       "      <th></th>\n",
       "      <th>Unigram</th>\n",
       "      <th>Bigram</th>\n",
       "      <th>Trigram</th>\n",
       "    </tr>\n",
       "    <tr>\n",
       "      <th>task_type</th>\n",
       "      <th>data_set</th>\n",
       "      <th></th>\n",
       "      <th></th>\n",
       "      <th></th>\n",
       "    </tr>\n",
       "  </thead>\n",
       "  <tbody>\n",
       "    <tr>\n",
       "      <th rowspan=\"2\" valign=\"top\">CLS</th>\n",
       "      <th>BC3ACT</th>\n",
       "      <td>26.760271</td>\n",
       "      <td>6.907863</td>\n",
       "      <td>1.807134</td>\n",
       "    </tr>\n",
       "    <tr>\n",
       "      <th>SST2</th>\n",
       "      <td>46.055815</td>\n",
       "      <td>17.378379</td>\n",
       "      <td>1.388049</td>\n",
       "    </tr>\n",
       "    <tr>\n",
       "      <th rowspan=\"4\" valign=\"top\">NER</th>\n",
       "      <th>BC2GM anno</th>\n",
       "      <td>70.766285</td>\n",
       "      <td>19.552406</td>\n",
       "      <td>5.411720</td>\n",
       "    </tr>\n",
       "    <tr>\n",
       "      <th>BC2GM text</th>\n",
       "      <td>33.191640</td>\n",
       "      <td>13.122176</td>\n",
       "      <td>4.200074</td>\n",
       "    </tr>\n",
       "    <tr>\n",
       "      <th>Chemu anno</th>\n",
       "      <td>84.286901</td>\n",
       "      <td>30.670974</td>\n",
       "      <td>6.832106</td>\n",
       "    </tr>\n",
       "    <tr>\n",
       "      <th>Chemu text</th>\n",
       "      <td>68.446277</td>\n",
       "      <td>42.391903</td>\n",
       "      <td>31.631991</td>\n",
       "    </tr>\n",
       "    <tr>\n",
       "      <th rowspan=\"2\" valign=\"top\">REL</th>\n",
       "      <th>AIMED (R)</th>\n",
       "      <td>96.947936</td>\n",
       "      <td>82.294414</td>\n",
       "      <td>73.146194</td>\n",
       "    </tr>\n",
       "    <tr>\n",
       "      <th>AIMED (U)</th>\n",
       "      <td>67.137026</td>\n",
       "      <td>36.067096</td>\n",
       "      <td>20.770509</td>\n",
       "    </tr>\n",
       "  </tbody>\n",
       "</table>\n",
       "</div>"
      ],
      "text/plain": [
       "                        Unigram     Bigram    Trigram\n",
       "task_type data_set                                   \n",
       "CLS       BC3ACT      26.760271   6.907863   1.807134\n",
       "          SST2        46.055815  17.378379   1.388049\n",
       "NER       BC2GM anno  70.766285  19.552406   5.411720\n",
       "          BC2GM text  33.191640  13.122176   4.200074\n",
       "          Chemu anno  84.286901  30.670974   6.832106\n",
       "          Chemu text  68.446277  42.391903  31.631991\n",
       "REL       AIMED (R)   96.947936  82.294414  73.146194\n",
       "          AIMED (U)   67.137026  36.067096  20.770509"
      ]
     },
     "execution_count": 37,
     "metadata": {},
     "output_type": "execute_result"
    }
   ],
   "source": [
    "df_summary.groupby([\"task_type\",\"data_set\"]).mean()"
   ]
  },
  {
   "cell_type": "code",
   "execution_count": 38,
   "metadata": {},
   "outputs": [
    {
     "name": "stdout",
     "output_type": "stream",
     "text": [
      "\\begin{tabular}{llrrr}\n",
      "\\toprule\n",
      "      &     &  Unigram &  Bigram &  Trigram \\\\\n",
      "data\\_set & task\\_type &          &         &          \\\\\n",
      "\\midrule\n",
      "AIMED (R)  & REL &    96.95 &   82.29 &    73.15 \\\\\n",
      "AIMED (U)  & REL &    67.14 &   36.07 &    20.77 \\\\\n",
      "BC2GM anno & NER &    70.77 &   19.55 &     5.41 \\\\\n",
      "BC2GM text & NER &    33.19 &   13.12 &     4.20 \\\\\n",
      "BC3ACT  & CLS &    26.76 &    6.91 &     1.81 \\\\\n",
      "Chemu anno & NER &    84.29 &   30.67 &     6.83 \\\\\n",
      "Chemu text & NER &    68.45 &   42.39 &    31.63 \\\\\n",
      "SST2  & CLS &    46.06 &   17.38 &     1.39 \\\\\n",
      "\\bottomrule\n",
      "\\end{tabular}\n",
      "\n"
     ]
    }
   ],
   "source": [
    "print(df_summary.groupby([ \"data_set\",\"task_type\"]).mean().\n",
    "      to_latex(float_format=lambda x: \"{:.2f}\".format(x)))"
   ]
  }
 ],
 "metadata": {
  "kernelspec": {
   "display_name": "Python 3",
   "language": "python",
   "name": "python3"
  },
  "language_info": {
   "codemirror_mode": {
    "name": "ipython",
    "version": 3
   },
   "file_extension": ".py",
   "mimetype": "text/x-python",
   "name": "python",
   "nbconvert_exporter": "python",
   "pygments_lexer": "ipython3",
   "version": "3.7.4"
  }
 },
 "nbformat": 4,
 "nbformat_minor": 1
}
